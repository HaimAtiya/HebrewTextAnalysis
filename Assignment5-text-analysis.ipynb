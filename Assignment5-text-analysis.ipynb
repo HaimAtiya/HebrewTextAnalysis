{
 "cells": [
  {
   "cell_type": "markdown",
   "metadata": {},
   "source": [
    "# Assignment 5 - Text Analysis\n",
    "An explanation this assignment could be found in the .pdf explanation document"
   ]
  },
  {
   "attachments": {},
   "cell_type": "markdown",
   "metadata": {},
   "source": [
    "> # Presented by:\n",
    "Haim Atiya<br />\n",
    "Ido Peer"
   ]
  },
  {
   "cell_type": "markdown",
   "metadata": {},
   "source": [
    "\n",
    "## Materials to review for this assignment\n",
    "<h4>From Moodle:</h4> \n",
    "<h5><u>Review the notebooks regarding the following python topics</u>:</h5>\n",
    "<div class=\"alert alert-info\">\n",
    "&#x2714; <b>Working with strings</b> (tutorial notebook)<br/>\n",
    "&#x2714; <b>Text Analysis</b> (tutorial notebook)<br/>\n",
    "&#x2714; <b>Hebrew text analysis tools (tokenizer, wordnet)</b> (moodle example)<br/>\n",
    "&#x2714; <b>(brief review) All previous notebooks</b><br/>\n",
    "</div> \n",
    "<h5><u>Review the presentations regarding the following topics</u>:</h5>\n",
    "<div class=\"alert alert-info\">\n",
    "&#x2714; <b>Text Analysis</b> (lecture presentation)<br/>\n",
    "&#x2714; <b>(brief review) All other presentations</b><br/>\n",
    "</div>"
   ]
  },
  {
   "cell_type": "markdown",
   "metadata": {},
   "source": [
    "## Preceding Step - import modules (packages)\n",
    "This step is necessary in order to use external modules (packages). <br/>"
   ]
  },
  {
   "cell_type": "code",
   "execution_count": 1,
   "metadata": {},
   "outputs": [],
   "source": [
    "# --------------------------------------\n",
    "import pandas as pd\n",
    "import numpy as np\n",
    "# --------------------------------------\n",
    "\n",
    "\n",
    "# --------------------------------------\n",
    "# ------------- visualizations:\n",
    "import seaborn as sns\n",
    "import matplotlib.pyplot as plt\n",
    "from matplotlib.colors import ListedColormap\n",
    "# --------------------------------------\n",
    "\n",
    "\n",
    "# ---------------------------------------\n",
    "import sklearn\n",
    "from sklearn import preprocessing, metrics, pipeline, model_selection, feature_extraction \n",
    "from sklearn import naive_bayes, linear_model, svm, neural_network, neighbors, tree\n",
    "from sklearn import decomposition, cluster\n",
    "\n",
    "from sklearn.model_selection import train_test_split, cross_val_score, GridSearchCV \n",
    "from sklearn.pipeline import Pipeline\n",
    "from sklearn.metrics import accuracy_score, confusion_matrix\n",
    "from sklearn.metrics import precision_score, recall_score, f1_score\n",
    "from sklearn.metrics import mean_squared_error, r2_score, silhouette_score\n",
    "from sklearn.preprocessing import MinMaxScaler, StandardScaler, LabelEncoder\n",
    "\n",
    "from sklearn.svm import LinearSVC\n",
    "from sklearn.neural_network import MLPClassifier\n",
    "from sklearn.linear_model import Perceptron, SGDClassifier\n",
    "from sklearn.decomposition import PCA\n",
    "from sklearn.cluster import KMeans\n",
    "from sklearn.naive_bayes import MultinomialNB, GaussianNB\n",
    "from sklearn.neighbors import KNeighborsClassifier\n",
    "from sklearn.tree import DecisionTreeClassifier\n",
    "# ---------------------------------------\n",
    "\n",
    "# select best features:\n",
    "from sklearn.feature_selection import SelectKBest, chi2\n",
    "#make scorer:\n",
    "from sklearn.metrics import make_scorer\n",
    "\n",
    "# Logistic Regression:\n",
    "from sklearn.linear_model import LogisticRegression\n",
    "\n",
    "# ----------------- output and visualizations: \n",
    "import warnings\n",
    "from sklearn.exceptions import ConvergenceWarning\n",
    "warnings.simplefilter(\"ignore\")\n",
    "warnings.simplefilter(action='ignore', category=FutureWarning)\n",
    "warnings.simplefilter(\"ignore\", category=ConvergenceWarning)\n",
    "# show several prints in one cell. This will allow us to condence every trick in one cell.\n",
    "from IPython.core.interactiveshell import InteractiveShell\n",
    "InteractiveShell.ast_node_interactivity = \"all\"\n",
    "%matplotlib inline\n",
    "pd.pandas.set_option('display.max_columns', None)\n",
    "pd.set_option('display.float_format', lambda x: '%.3f' % x)\n",
    "# ---------------------------------------"
   ]
  },
  {
   "cell_type": "markdown",
   "metadata": {},
   "source": [
    "### Text analysis and String manipulation imports:"
   ]
  },
  {
   "cell_type": "code",
   "execution_count": 2,
   "metadata": {},
   "outputs": [],
   "source": [
    "# --------------------------------------\n",
    "# --------- Text analysis and Hebrew text analysis imports:\n",
    "# vectorizers:\n",
    "from sklearn.feature_extraction import text\n",
    "from sklearn.feature_extraction.text import CountVectorizer, TfidfVectorizer\n",
    "\n",
    "# regular expressions:\n",
    "import re\n",
    "# --------------------------------------"
   ]
  },
  {
   "cell_type": "markdown",
   "metadata": {},
   "source": [
    "### (optional) Hebrew text analysis - WordNet (for Hebrew)\n",
    "Note: the WordNet is not a must"
   ]
  },
  {
   "cell_type": "markdown",
   "metadata": {},
   "source": [
    "#### (optional) Only if you didn't install Wordnet (for Hebrew) use:"
   ]
  },
  {
   "cell_type": "code",
   "execution_count": 3,
   "metadata": {},
   "outputs": [],
   "source": [
    "# word net installation:\n",
    "\n",
    "# unmark if you want to use and need to install\n",
    "# !pip install wn\n",
    "# !python -m wn download omw-he:1.4"
   ]
  },
  {
   "cell_type": "code",
   "execution_count": 4,
   "metadata": {},
   "outputs": [],
   "source": [
    "# word net import:\n",
    "\n",
    "# unmark if you want to use:\n",
    "# import wn"
   ]
  },
  {
   "cell_type": "markdown",
   "metadata": {},
   "source": [
    "### (optional) Hebrew text analysis - hebrew_tokenizer (Tokenizer for Hebrew)\n",
    "Note: the hebrew_tokenizer is not a must"
   ]
  },
  {
   "cell_type": "markdown",
   "metadata": {},
   "source": [
    "#### (optional) Only if you didn't install hebrew_tokenizer use:"
   ]
  },
  {
   "cell_type": "code",
   "execution_count": 5,
   "metadata": {},
   "outputs": [],
   "source": [
    "# Hebrew tokenizer installation:\n",
    "\n",
    "# unmark if you want to use and need to install:\n",
    "# !pip install hebrew_tokenizer"
   ]
  },
  {
   "cell_type": "code",
   "execution_count": 6,
   "metadata": {},
   "outputs": [],
   "source": [
    "# Hebrew tokenizer import:\n",
    "\n",
    "# unmark if you want to use:\n",
    "#import hebrew_tokenizer as ht"
   ]
  },
  {
   "cell_type": "markdown",
   "metadata": {},
   "source": [
    "### Reading input files\n",
    "Reading input files for train annotated corpus (raw text data) corpus and for the test corpus"
   ]
  },
  {
   "cell_type": "code",
   "execution_count": 7,
   "metadata": {},
   "outputs": [],
   "source": [
    "train_filename = 'annotated_corpus_for_train.csv'\n",
    "test_filename  = 'corpus_for_test.csv'\n",
    "df_train = pd.read_csv(train_filename, index_col=None, encoding='utf-8')\n",
    "df_test  = pd.read_csv(test_filename, index_col=None, encoding='utf-8')"
   ]
  },
  {
   "cell_type": "code",
   "execution_count": 8,
   "metadata": {},
   "outputs": [
    {
     "data": {
      "text/html": [
       "<div>\n",
       "<style scoped>\n",
       "    .dataframe tbody tr th:only-of-type {\n",
       "        vertical-align: middle;\n",
       "    }\n",
       "\n",
       "    .dataframe tbody tr th {\n",
       "        vertical-align: top;\n",
       "    }\n",
       "\n",
       "    .dataframe thead th {\n",
       "        text-align: right;\n",
       "    }\n",
       "</style>\n",
       "<table border=\"1\" class=\"dataframe\">\n",
       "  <thead>\n",
       "    <tr style=\"text-align: right;\">\n",
       "      <th></th>\n",
       "      <th>story</th>\n",
       "      <th>gender</th>\n",
       "    </tr>\n",
       "  </thead>\n",
       "  <tbody>\n",
       "    <tr>\n",
       "      <th>0</th>\n",
       "      <td>כשחבר הזמין אותי לחול, לא באמת חשבתי שזה יקרה,...</td>\n",
       "      <td>m</td>\n",
       "    </tr>\n",
       "    <tr>\n",
       "      <th>1</th>\n",
       "      <td>לפני שהתגייסתי לצבא עשיתי כל מני מיונים ליחידו...</td>\n",
       "      <td>m</td>\n",
       "    </tr>\n",
       "    <tr>\n",
       "      <th>2</th>\n",
       "      <td>מאז שהתחילו הלימודים חלומו של כל סטודנט זה הפנ...</td>\n",
       "      <td>f</td>\n",
       "    </tr>\n",
       "    <tr>\n",
       "      <th>3</th>\n",
       "      <td>כשהייתי ילד, מטוסים היה הדבר שהכי ריתק אותי. ב...</td>\n",
       "      <td>m</td>\n",
       "    </tr>\n",
       "    <tr>\n",
       "      <th>4</th>\n",
       "      <td>‏הייתי מדריכה בכפר נוער ומתאם הכפר היינו צריכי...</td>\n",
       "      <td>f</td>\n",
       "    </tr>\n",
       "    <tr>\n",
       "      <th>5</th>\n",
       "      <td>לפני כ3 חודשים טסתי לרומא למשך שבוע. טסתי במטו...</td>\n",
       "      <td>f</td>\n",
       "    </tr>\n",
       "    <tr>\n",
       "      <th>6</th>\n",
       "      <td>אני כבר שנתיים נשוי והשנה אני ואישתי סוף סוף י...</td>\n",
       "      <td>m</td>\n",
       "    </tr>\n",
       "    <tr>\n",
       "      <th>7</th>\n",
       "      <td>השנה התחלנו שיפוץ בדירה שלנו בתל אביב. הדירה ה...</td>\n",
       "      <td>f</td>\n",
       "    </tr>\n",
       "  </tbody>\n",
       "</table>\n",
       "</div>"
      ],
      "text/plain": [
       "                                               story gender\n",
       "0  כשחבר הזמין אותי לחול, לא באמת חשבתי שזה יקרה,...      m\n",
       "1  לפני שהתגייסתי לצבא עשיתי כל מני מיונים ליחידו...      m\n",
       "2  מאז שהתחילו הלימודים חלומו של כל סטודנט זה הפנ...      f\n",
       "3  כשהייתי ילד, מטוסים היה הדבר שהכי ריתק אותי. ב...      m\n",
       "4  ‏הייתי מדריכה בכפר נוער ומתאם הכפר היינו צריכי...      f\n",
       "5  לפני כ3 חודשים טסתי לרומא למשך שבוע. טסתי במטו...      f\n",
       "6  אני כבר שנתיים נשוי והשנה אני ואישתי סוף סוף י...      m\n",
       "7  השנה התחלנו שיפוץ בדירה שלנו בתל אביב. הדירה ה...      f"
      ]
     },
     "execution_count": 8,
     "metadata": {},
     "output_type": "execute_result"
    },
    {
     "data": {
      "text/plain": [
       "(753, 2)"
      ]
     },
     "execution_count": 8,
     "metadata": {},
     "output_type": "execute_result"
    },
    {
     "data": {
      "text/plain": [
       "gender\n",
       "m    575\n",
       "f    178\n",
       "dtype: int64"
      ]
     },
     "execution_count": 8,
     "metadata": {},
     "output_type": "execute_result"
    }
   ],
   "source": [
    "df_train.head(8)\n",
    "df_train.shape\n",
    "df_train.value_counts('gender')"
   ]
  },
  {
   "cell_type": "code",
   "execution_count": 9,
   "metadata": {},
   "outputs": [
    {
     "data": {
      "text/html": [
       "<div>\n",
       "<style scoped>\n",
       "    .dataframe tbody tr th:only-of-type {\n",
       "        vertical-align: middle;\n",
       "    }\n",
       "\n",
       "    .dataframe tbody tr th {\n",
       "        vertical-align: top;\n",
       "    }\n",
       "\n",
       "    .dataframe thead th {\n",
       "        text-align: right;\n",
       "    }\n",
       "</style>\n",
       "<table border=\"1\" class=\"dataframe\">\n",
       "  <thead>\n",
       "    <tr style=\"text-align: right;\">\n",
       "      <th></th>\n",
       "      <th>test_example_id</th>\n",
       "      <th>story</th>\n",
       "    </tr>\n",
       "  </thead>\n",
       "  <tbody>\n",
       "    <tr>\n",
       "      <th>0</th>\n",
       "      <td>0</td>\n",
       "      <td>כל קיץ אני והמשפחה נוסעים לארצות הברית לוס אנג...</td>\n",
       "    </tr>\n",
       "    <tr>\n",
       "      <th>1</th>\n",
       "      <td>1</td>\n",
       "      <td>הגעתי לשירות המדינה אחרי שנתיים כפעיל בתנועת \"...</td>\n",
       "    </tr>\n",
       "    <tr>\n",
       "      <th>2</th>\n",
       "      <td>2</td>\n",
       "      <td>אחת האהבות הגדולות שלי אלו הכלבים שלי ושל אישת...</td>\n",
       "    </tr>\n",
       "  </tbody>\n",
       "</table>\n",
       "</div>"
      ],
      "text/plain": [
       "   test_example_id                                              story\n",
       "0                0  כל קיץ אני והמשפחה נוסעים לארצות הברית לוס אנג...\n",
       "1                1  הגעתי לשירות המדינה אחרי שנתיים כפעיל בתנועת \"...\n",
       "2                2  אחת האהבות הגדולות שלי אלו הכלבים שלי ושל אישת..."
      ]
     },
     "execution_count": 9,
     "metadata": {},
     "output_type": "execute_result"
    },
    {
     "data": {
      "text/plain": [
       "(323, 2)"
      ]
     },
     "execution_count": 9,
     "metadata": {},
     "output_type": "execute_result"
    }
   ],
   "source": [
    "df_test.head(3)\n",
    "df_test.shape"
   ]
  },
  {
   "cell_type": "markdown",
   "metadata": {},
   "source": [
    "### Your implementation:\n",
    "Write your code solution in the following code-cells"
   ]
  },
  {
   "attachments": {},
   "cell_type": "markdown",
   "metadata": {},
   "source": [
    "# Preprocessing:"
   ]
  },
  {
   "attachments": {},
   "cell_type": "markdown",
   "metadata": {},
   "source": [
    "> ### Check for missing values:"
   ]
  },
  {
   "cell_type": "code",
   "execution_count": 10,
   "metadata": {},
   "outputs": [
    {
     "name": "stdout",
     "output_type": "stream",
     "text": [
      "Num of missing values:\n",
      "story     0\n",
      "gender    0\n",
      "dtype: int64\n"
     ]
    }
   ],
   "source": [
    "# First of all, we will check if there are any missing values in the data set.\n",
    "num_missing = df_train.isnull().sum().sort_values(ascending=False)\n",
    "print(\"Num of missing values:\\n%s\" % num_missing)\n",
    "# There are no missing values in the data set.\n"
   ]
  },
  {
   "attachments": {},
   "cell_type": "markdown",
   "metadata": {},
   "source": [
    "> ### Clear the text:"
   ]
  },
  {
   "cell_type": "code",
   "execution_count": 11,
   "metadata": {},
   "outputs": [],
   "source": [
    "# Clean the text from punctuation marks, numbers, and other characters that are not letters.\n",
    "def clear_text(text):\n",
    "    # remove punctuation:\n",
    "    text = re.sub(r'[^\\w\\s]', '', text)\n",
    "    # remove numbers:\n",
    "    text = re.sub(r'\\d+', '', text)\n",
    "    # remove special characters and symbols:\n",
    "    text = re.sub(r'[^\\w\\s]', '', text)\n",
    "    # remove multiple spaces:\n",
    "    text = re.sub(r'\\s+', ' ', text)\n",
    "    return text\n",
    "\n",
    "def clear_df(df):\n",
    "    print (\"Cleaning text...\")\n",
    "    df['story'] = df['story'].apply(clear_text)\n",
    "    return df"
   ]
  },
  {
   "attachments": {},
   "cell_type": "markdown",
   "metadata": {},
   "source": [
    "> ### Vectorize the story:"
   ]
  },
  {
   "cell_type": "code",
   "execution_count": 12,
   "metadata": {},
   "outputs": [],
   "source": [
    "# Now that we have cleaned the text, we will vectorize it using 2 methods:\n",
    "# 1. CountVectorizer\n",
    "# 2. TfidfVectorizer\n",
    "# We will use the TfidfVectorizer as default, and we will compare the results of the two methods.\n",
    "def vectorize(df,method='tfidf', test=False):\n",
    "    print (\"Vectorizing...\")\n",
    "    cpy = df.copy()\n",
    "    if method == 'tfidf':\n",
    "        vectorizer = TfidfVectorizer(ngram_range=(1, 1), min_df=5)\n",
    "    elif method == 'count':\n",
    "        vectorizer = CountVectorizer(ngram_range=(1, 1), min_df=5)\n",
    "\n",
    "    vectorizer.fit_transform(cpy['story'])\n",
    "    if test:\n",
    "        vectorizer.transform(cpy['story'])\n",
    "    \n",
    "    cpy = pd.concat([cpy, pd.DataFrame(vectorizer.transform(cpy['story']).toarray())], axis=1)\n",
    "    cpy.drop(['story'], axis=1, inplace=True)\n",
    "    # remove blank rows:\n",
    "    cpy = cpy.dropna()\n",
    "    return cpy\n"
   ]
  },
  {
   "attachments": {},
   "cell_type": "markdown",
   "metadata": {},
   "source": [
    "> ### Feature selection:"
   ]
  },
  {
   "cell_type": "code",
   "execution_count": 13,
   "metadata": {},
   "outputs": [],
   "source": [
    "# This function will select the best features from the vectorized data set in order to improve the model's performance.\n",
    "# We will use the SelectKBest method, and we will compare the results of the two methods.\n",
    "# this function inputs X and y and returns a dataframe with the best 80 features\n",
    "def select_features(X, y):\n",
    "    print (\"Selecting features...\")\n",
    "    cpy = X.copy()\n",
    "    selector = SelectKBest(chi2, k=1300)\n",
    "    selector.fit_transform(cpy, y)\n",
    "    cpy = pd.DataFrame(selector.transform(cpy))\n",
    "    return cpy"
   ]
  },
  {
   "attachments": {},
   "cell_type": "markdown",
   "metadata": {},
   "source": [
    "> ### Scale the data:"
   ]
  },
  {
   "cell_type": "code",
   "execution_count": 14,
   "metadata": {},
   "outputs": [],
   "source": [
    "# We are going to scale the data using 2 methods:\n",
    "# 1. MinMaxScaler\n",
    "# 2. StandardScaler\n",
    "# We will use the MinMax as default, and we will compare the results of the two methods.\n",
    "def scale(df, method='minmax'):\n",
    "    print (\"Scaling...\")\n",
    "    cpy = df.copy()\n",
    "    scaler = MinMaxScaler()\n",
    "    if method == 'standard':\n",
    "        scaler = StandardScaler()\n",
    "    cpy = pd.DataFrame(scaler.fit_transform(cpy), columns=cpy.columns)\n",
    "    return cpy"
   ]
  },
  {
   "attachments": {},
   "cell_type": "markdown",
   "metadata": {},
   "source": [
    "> ### Split functions\n"
   ]
  },
  {
   "cell_type": "code",
   "execution_count": 15,
   "metadata": {},
   "outputs": [],
   "source": [
    "def split_to_X_and_y(df, target_column='gender'):\n",
    "    return df.drop([target_column], axis=1), df[target_column]\n",
    "    \n",
    "def split_to_train_and_test(X, y, test_ratio, rand_state):\n",
    "    X_train, X_test, y_train, y_test = train_test_split(X, y, test_size=test_ratio, random_state=rand_state)\n",
    "    return X_train, X_test, y_train, y_test"
   ]
  },
  {
   "attachments": {},
   "cell_type": "markdown",
   "metadata": {},
   "source": [
    "> ### Full Preprocessing flow:"
   ]
  },
  {
   "cell_type": "code",
   "execution_count": 16,
   "metadata": {},
   "outputs": [],
   "source": [
    "# Now we will run all the preprocessing functions on the data set.\n",
    "# This function will return df scaled and vectorized.\n",
    "def preprocess(df, method='tfidf', scale_method='standard', test=False):\n",
    "    print (\"Preprocessing...\")\n",
    "    cpy = df.copy()\n",
    "    cpy = clear_df(cpy)\n",
    "    if test:\n",
    "        df = df.copy()\n",
    "        X_test = clear_df(df)\n",
    "        X_test_vec = vectorize(X_test, method, True)\n",
    "        X_test_fselected = select_features(X_test_vec, np.zeros(X_test_vec.shape[0]))\n",
    "        X_test_scaled = scale(X_test_fselected, scale_method)\n",
    "        return X_test_scaled\n",
    "    X, y = split_to_X_and_y(cpy)\n",
    "    X_train, X_test, y_train, y_test = split_to_train_and_test(X, y, 0.2, 42)\n",
    "    X_train_vec = vectorize(X_train, method)\n",
    "    X_test_vec = vectorize(X_test, method, True)\n",
    "    X_train_fslected = select_features(X_train_vec, y_train)\n",
    "    X_test_fselected = select_features(X_test_vec, y_test)\n",
    "    X_train_scaled = scale(X_train_fslected, scale_method)\n",
    "    X_test_scaled = scale(X_test_fselected, scale_method)\n",
    "    print (\"Preprocessing done!\")\n",
    "    return X_train_scaled, X_test_scaled, X_train, X_test, y_train, y_test\n",
    "\n"
   ]
  },
  {
   "cell_type": "code",
   "execution_count": 17,
   "metadata": {},
   "outputs": [
    {
     "name": "stdout",
     "output_type": "stream",
     "text": [
      "Preprocessing...\n",
      "Cleaning text...\n",
      "Vectorizing...\n",
      "Vectorizing...\n",
      "Selecting features...\n",
      "Selecting features...\n",
      "Scaling...\n",
      "Scaling...\n",
      "Preprocessing done!\n"
     ]
    }
   ],
   "source": [
    "# We will use the preprocess function on the train and test data sets.\n",
    "X_train_scaled, X_test_scaled, X_train, X_test, y_train, y_test = preprocess(df_train)"
   ]
  },
  {
   "attachments": {},
   "cell_type": "markdown",
   "metadata": {},
   "source": [
    "# Training:"
   ]
  },
  {
   "attachments": {},
   "cell_type": "markdown",
   "metadata": {},
   "source": [
    "> ### List of Models:"
   ]
  },
  {
   "cell_type": "code",
   "execution_count": 18,
   "metadata": {},
   "outputs": [],
   "source": [
    "# Models we will use:\n",
    "# 1. LinearSVC\n",
    "# 2. Perceptron\n",
    "# 3. GaussianNB\n",
    "# 4. KNeighborsClassifier\n",
    "# 5. LogisticRegression\n",
    "models_and_params = [\n",
    "    {\n",
    "        'name': 'LinearSVC',\n",
    "        'model': LinearSVC(),\n",
    "        'params': {\n",
    "            'C': [0.1, 1, 10, 100, 1000],\n",
    "            'penalty': ['l1', 'l2'],\n",
    "        }\n",
    "    },\n",
    "    {\n",
    "        'name': 'Perceptron',\n",
    "        'model': Perceptron(),\n",
    "        'params': {\n",
    "            'penalty': ['none', 'l2', 'l1', 'elasticnet'],\n",
    "            'alpha': [0.0001, 0.05]\n",
    "        }\n",
    "    },\n",
    "    {\n",
    "        'name': 'GaussianNB',\n",
    "        'model': GaussianNB(),\n",
    "        'params': {\n",
    "            'var_smoothing': [1e-09, 1e-08, 1e-07, 1e-06]\n",
    "        }\n",
    "    },\n",
    "    {\n",
    "        'name': 'KNeighborsClassifier',\n",
    "        'model': KNeighborsClassifier(),\n",
    "        'params': {\n",
    "            'n_neighbors': [3, 5, 7, 9, 11],\n",
    "            'weights': ['uniform', 'distance'],\n",
    "            'algorithm': ['auto', 'ball_tree', 'kd_tree', 'brute'],\n",
    "            'leaf_size': [10, 20, 30, 40, 50],\n",
    "            'p': [1, 2]\n",
    "        }\n",
    "    },\n",
    "    {\n",
    "        'name': 'LogisticRegression',\n",
    "        'model': LogisticRegression(),\n",
    "        'params': {\n",
    "            'penalty': ['l1', 'l2', 'elasticnet', 'none'],\n",
    "            'C': [0.1, 1, 10, 100, 1000],\n",
    "            'solver': ['newton-cg', 'lbfgs', 'liblinear', 'sag', 'saga'],\n",
    "        }\n",
    "    }                 \n",
    "]"
   ]
  },
  {
   "cell_type": "markdown",
   "metadata": {},
   "source": [
    "> ### Find the best parameters:"
   ]
  },
  {
   "cell_type": "code",
   "execution_count": 22,
   "metadata": {},
   "outputs": [],
   "source": [
    "# We will use GridSearchCV to find the best parameters for each model.\n",
    "\n",
    "def find_best_params(X, y, models_and_params):\n",
    "    print (\"Finding best params...\")\n",
    "    for model in models_and_params:\n",
    "        grid = GridSearchCV(model['model'], model['params'], cv=5, n_jobs=-1)\n",
    "        grid.fit(X, y)\n",
    "        model['best_params'] = grid.best_params_\n",
    "        model['best_score'] = grid.best_score_\n",
    "    print (\"Finding best params done!\")"
   ]
  },
  {
   "cell_type": "markdown",
   "metadata": {},
   "source": [
    "> ### Evaluate the models:"
   ]
  },
  {
   "cell_type": "code",
   "execution_count": 23,
   "metadata": {},
   "outputs": [],
   "source": [
    "# We are going to evaluate the f1 score of each model using cross validation.\n",
    "\n",
    "def evaluate_models(X, y, models_and_params):\n",
    "    for model in models_and_params:\n",
    "        print(\"Evaluating %s\" % model['name'])\n",
    "        model['model'].set_params(**model['best_params'])\n",
    "        model['model'].fit(X, y)\n",
    "        scores = cross_val_score(model['model'], X, y, cv=10, scoring=make_scorer(f1_score, average='macro'))\n",
    "        y_pred = model['model'].predict(X_test_scaled)\n",
    "        f1_m = f1_score(y_test, y_pred, pos_label='m')\n",
    "        f1_f = f1_score(y_test, y_pred, pos_label='f')\n",
    "        avg_f1 = np.mean(scores)\n",
    "        confusion_mat = confusion_matrix(y_test, y_pred)\n",
    "        print(\"Best params: \\n%s\" % (model['best_params']))\n",
    "        print(\"F1 Male: %s\" % (f1_m))\n",
    "        print(\"F1 Female: %s\" % (f1_f))\n",
    "        print(\"Average f1 score: %s\" % (avg_f1))\n",
    "        print(\"Confusion matrix: \\n%s\" % (confusion_mat))\n",
    "        print(\"--------------------------------------------------\")\n",
    "        model['scores'] = scores\n",
    "        model['avg_f1'] = avg_f1\n",
    "        model['confusion_mat'] = confusion_mat\n",
    "        model['male_f1'] = f1_m\n",
    "        model['female_f1'] = f1_f"
   ]
  },
  {
   "cell_type": "code",
   "execution_count": 24,
   "metadata": {},
   "outputs": [
    {
     "name": "stdout",
     "output_type": "stream",
     "text": [
      "Finding best params...\n",
      "Finding best params done!\n",
      "Evaluating LinearSVC\n",
      "Best params: \n",
      "{'C': 0.1, 'penalty': 'l2'}\n",
      "F1 Male: 0.7443946188340809\n",
      "F1 Female: 0.27848101265822783\n",
      "Average f1 score: 0.7546933501299666\n",
      "Confusion matrix: \n",
      "[[11 26]\n",
      " [31 83]]\n",
      "--------------------------------------------------\n",
      "Evaluating Perceptron\n",
      "Best params: \n",
      "{'alpha': 0.0001, 'penalty': 'l2'}\n",
      "F1 Male: 0.7918367346938776\n",
      "F1 Female: 0.10526315789473685\n",
      "Average f1 score: 0.8485566449236671\n",
      "Confusion matrix: \n",
      "[[ 3 34]\n",
      " [17 97]]\n",
      "--------------------------------------------------\n",
      "Evaluating GaussianNB\n",
      "Best params: \n",
      "{'var_smoothing': 1e-09}\n",
      "F1 Male: 0.8603773584905661\n",
      "F1 Female: 0.0\n",
      "Average f1 score: 0.840068396589834\n",
      "Confusion matrix: \n",
      "[[  0  37]\n",
      " [  0 114]]\n",
      "--------------------------------------------------\n",
      "Evaluating KNeighborsClassifier\n",
      "Best params: \n",
      "{'algorithm': 'auto', 'leaf_size': 10, 'n_neighbors': 3, 'p': 1, 'weights': 'distance'}\n",
      "F1 Male: 0.8603773584905661\n",
      "F1 Female: 0.0\n",
      "Average f1 score: 0.4747877172789005\n",
      "Confusion matrix: \n",
      "[[  0  37]\n",
      " [  0 114]]\n",
      "--------------------------------------------------\n",
      "Evaluating LogisticRegression\n",
      "Best params: \n",
      "{'C': 1000, 'penalty': 'l2', 'solver': 'lbfgs'}\n",
      "F1 Male: 0.8207171314741035\n",
      "F1 Female: 0.11764705882352942\n",
      "Average f1 score: 0.8801851973167526\n",
      "Confusion matrix: \n",
      "[[  3  34]\n",
      " [ 11 103]]\n",
      "--------------------------------------------------\n"
     ]
    }
   ],
   "source": [
    "# Now we will run the functions above on the data set.\n",
    "find_best_params(X_train_scaled, y_train, models_and_params)\n",
    "evaluate_models(X_train_scaled, y_train, models_and_params)\n"
   ]
  },
  {
   "cell_type": "markdown",
   "metadata": {},
   "source": [
    "> # Predicting the test data set"
   ]
  },
  {
   "cell_type": "code",
   "execution_count": 25,
   "metadata": {},
   "outputs": [
    {
     "name": "stdout",
     "output_type": "stream",
     "text": [
      "Preprocessing...\n",
      "Cleaning text...\n",
      "Cleaning text...\n",
      "Vectorizing...\n",
      "Selecting features...\n",
      "Scaling...\n",
      "Top 5 rows and bottom 5 rows of the predicted data set:\n"
     ]
    },
    {
     "data": {
      "text/html": [
       "<div>\n",
       "<style scoped>\n",
       "    .dataframe tbody tr th:only-of-type {\n",
       "        vertical-align: middle;\n",
       "    }\n",
       "\n",
       "    .dataframe tbody tr th {\n",
       "        vertical-align: top;\n",
       "    }\n",
       "\n",
       "    .dataframe thead th {\n",
       "        text-align: right;\n",
       "    }\n",
       "</style>\n",
       "<table border=\"1\" class=\"dataframe\">\n",
       "  <thead>\n",
       "    <tr style=\"text-align: right;\">\n",
       "      <th></th>\n",
       "      <th>test_example_id</th>\n",
       "      <th>predicted_category</th>\n",
       "    </tr>\n",
       "  </thead>\n",
       "  <tbody>\n",
       "    <tr>\n",
       "      <th>0</th>\n",
       "      <td>0</td>\n",
       "      <td>m</td>\n",
       "    </tr>\n",
       "    <tr>\n",
       "      <th>1</th>\n",
       "      <td>1</td>\n",
       "      <td>f</td>\n",
       "    </tr>\n",
       "    <tr>\n",
       "      <th>2</th>\n",
       "      <td>2</td>\n",
       "      <td>f</td>\n",
       "    </tr>\n",
       "    <tr>\n",
       "      <th>3</th>\n",
       "      <td>3</td>\n",
       "      <td>m</td>\n",
       "    </tr>\n",
       "    <tr>\n",
       "      <th>4</th>\n",
       "      <td>4</td>\n",
       "      <td>f</td>\n",
       "    </tr>\n",
       "    <tr>\n",
       "      <th>...</th>\n",
       "      <td>...</td>\n",
       "      <td>...</td>\n",
       "    </tr>\n",
       "    <tr>\n",
       "      <th>318</th>\n",
       "      <td>318</td>\n",
       "      <td>m</td>\n",
       "    </tr>\n",
       "    <tr>\n",
       "      <th>319</th>\n",
       "      <td>319</td>\n",
       "      <td>m</td>\n",
       "    </tr>\n",
       "    <tr>\n",
       "      <th>320</th>\n",
       "      <td>320</td>\n",
       "      <td>f</td>\n",
       "    </tr>\n",
       "    <tr>\n",
       "      <th>321</th>\n",
       "      <td>321</td>\n",
       "      <td>m</td>\n",
       "    </tr>\n",
       "    <tr>\n",
       "      <th>322</th>\n",
       "      <td>322</td>\n",
       "      <td>m</td>\n",
       "    </tr>\n",
       "  </tbody>\n",
       "</table>\n",
       "<p>323 rows × 2 columns</p>\n",
       "</div>"
      ],
      "text/plain": [
       "     test_example_id predicted_category\n",
       "0                  0                  m\n",
       "1                  1                  f\n",
       "2                  2                  f\n",
       "3                  3                  m\n",
       "4                  4                  f\n",
       "..               ...                ...\n",
       "318              318                  m\n",
       "319              319                  m\n",
       "320              320                  f\n",
       "321              321                  m\n",
       "322              322                  m\n",
       "\n",
       "[323 rows x 2 columns]"
      ]
     },
     "execution_count": 25,
     "metadata": {},
     "output_type": "execute_result"
    }
   ],
   "source": [
    "# We will use the best model to predict the test data set.\n",
    "X_test_scaled = preprocess(df_test, test=True)\n",
    "best_model = models_and_params[0] # LinearSVC is the best model that predicts male and woman.\n",
    "y_pred = best_model['model'].predict(X_test_scaled)\n",
    "df_predicted = pd.DataFrame({'test_example_id': df_test[\"test_example_id\"], 'predicted_category': y_pred})\n",
    "print (\"Top 5 rows and bottom 5 rows of the predicted data set:\")\n",
    "df_predicted # print top 5 rows and bottom 5 rows\n"
   ]
  },
  {
   "cell_type": "code",
   "execution_count": 26,
   "metadata": {},
   "outputs": [
    {
     "data": {
      "text/plain": [
       "predicted_category\n",
       "m                     247\n",
       "f                      76\n",
       "dtype: int64"
      ]
     },
     "execution_count": 26,
     "metadata": {},
     "output_type": "execute_result"
    }
   ],
   "source": [
    "# Check the distribution of the predicted categories.\n",
    "df_predicted.value_counts(subset=['predicted_category'])"
   ]
  },
  {
   "cell_type": "markdown",
   "metadata": {},
   "source": [
    "### Save output to csv (optional)\n",
    "After you're done save your output to the 'classification_results.csv' csv file.<br/>\n",
    "We assume that the dataframe with your results contain the following columns:\n",
    "* column 1 (left column): 'test_example_id'  - the same id associated to each of the test stories to be predicted.\n",
    "* column 2 (right column): 'predicted_category' - the predicted gender value for each of the associated story. \n",
    "\n",
    "Assuming your predicted values are in the `df_predicted` dataframe, you should save you're results as following:"
   ]
  },
  {
   "cell_type": "code",
   "execution_count": 27,
   "metadata": {},
   "outputs": [],
   "source": [
    "df_predicted.to_csv('classification_results.csv',index=False)"
   ]
  }
 ],
 "metadata": {
  "celltoolbar": "Create Assignment",
  "kernelspec": {
   "display_name": "Python 3 (ipykernel)",
   "language": "python",
   "name": "python3"
  },
  "language_info": {
   "codemirror_mode": {
    "name": "ipython",
    "version": 3
   },
   "file_extension": ".py",
   "mimetype": "text/x-python",
   "name": "python",
   "nbconvert_exporter": "python",
   "pygments_lexer": "ipython3",
   "version": "3.9.7"
  }
 },
 "nbformat": 4,
 "nbformat_minor": 4
}
